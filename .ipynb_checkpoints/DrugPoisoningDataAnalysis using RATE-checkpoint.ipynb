{
 "cells": [
  {
   "cell_type": "markdown",
   "metadata": {},
   "source": [
    "# Drug Poisoning Data Analysis - using RATE\n",
    "\n",
    "Import libraries"
   ]
  },
  {
   "cell_type": "code",
   "execution_count": 1,
   "metadata": {},
   "outputs": [],
   "source": [
    "import numpy as np\n",
    "import pandas as pd\n",
    "\n",
    "from sklearn import preprocessing\n",
    "\n",
    "from sklearn.tree import DecisionTreeRegressor\n",
    "from sklearn.ensemble import RandomForestRegressor"
   ]
  },
  {
   "cell_type": "markdown",
   "metadata": {},
   "source": [
    "Load in data"
   ]
  },
  {
   "cell_type": "code",
   "execution_count": 2,
   "metadata": {},
   "outputs": [
    {
     "data": {
      "text/plain": [
       "(2703, 18)"
      ]
     },
     "execution_count": 2,
     "metadata": {},
     "output_type": "execute_result"
    }
   ],
   "source": [
    "df0 = pd.read_csv(\"data.csv\")\n",
    "df0.shape"
   ]
  },
  {
   "cell_type": "code",
   "execution_count": 3,
   "metadata": {},
   "outputs": [
    {
     "data": {
      "text/html": [
       "<div>\n",
       "<style scoped>\n",
       "    .dataframe tbody tr th:only-of-type {\n",
       "        vertical-align: middle;\n",
       "    }\n",
       "\n",
       "    .dataframe tbody tr th {\n",
       "        vertical-align: top;\n",
       "    }\n",
       "\n",
       "    .dataframe thead th {\n",
       "        text-align: right;\n",
       "    }\n",
       "</style>\n",
       "<table border=\"1\" class=\"dataframe\">\n",
       "  <thead>\n",
       "    <tr style=\"text-align: right;\">\n",
       "      <th></th>\n",
       "      <th>Year</th>\n",
       "      <th>Sex</th>\n",
       "      <th>Age</th>\n",
       "      <th>Race and Hispanic Origin</th>\n",
       "      <th>State</th>\n",
       "      <th>Deaths</th>\n",
       "      <th>Population</th>\n",
       "      <th>Crude Death Rate</th>\n",
       "      <th>Standard Error for Crude Rate</th>\n",
       "      <th>Low Confidence Limit for Crude Rate</th>\n",
       "      <th>Upper Confidence Limit for Crude Rate</th>\n",
       "      <th>Age-adjusted Rate</th>\n",
       "      <th>Standard Error Age-adjusted Rate</th>\n",
       "      <th>Lower Confidence Limit for Age-adjusted rate</th>\n",
       "      <th>Upper Confidence Limit for Age-adjusted Rate</th>\n",
       "      <th>State Crude Rate in Range</th>\n",
       "      <th>US Crude Rate</th>\n",
       "      <th>US Age-adjusted Rate</th>\n",
       "    </tr>\n",
       "  </thead>\n",
       "  <tbody>\n",
       "    <tr>\n",
       "      <th>0</th>\n",
       "      <td>2014</td>\n",
       "      <td>Both Sexes</td>\n",
       "      <td>15-24 years</td>\n",
       "      <td>All Races-All Origins</td>\n",
       "      <td>United States</td>\n",
       "      <td>3798</td>\n",
       "      <td>43979821</td>\n",
       "      <td>8.6</td>\n",
       "      <td>0.1</td>\n",
       "      <td>8.4</td>\n",
       "      <td>8.9</td>\n",
       "      <td>NaN</td>\n",
       "      <td>NaN</td>\n",
       "      <td>NaN</td>\n",
       "      <td>NaN</td>\n",
       "      <td>NaN</td>\n",
       "      <td>14.8</td>\n",
       "      <td>14.7</td>\n",
       "    </tr>\n",
       "    <tr>\n",
       "      <th>1</th>\n",
       "      <td>2012</td>\n",
       "      <td>Male</td>\n",
       "      <td>15-24 years</td>\n",
       "      <td>Non-Hispanic White</td>\n",
       "      <td>United States</td>\n",
       "      <td>2137</td>\n",
       "      <td>12857283</td>\n",
       "      <td>16.6</td>\n",
       "      <td>0.4</td>\n",
       "      <td>15.9</td>\n",
       "      <td>17.3</td>\n",
       "      <td>NaN</td>\n",
       "      <td>NaN</td>\n",
       "      <td>NaN</td>\n",
       "      <td>NaN</td>\n",
       "      <td>NaN</td>\n",
       "      <td>13.2</td>\n",
       "      <td>13.1</td>\n",
       "    </tr>\n",
       "    <tr>\n",
       "      <th>2</th>\n",
       "      <td>2008</td>\n",
       "      <td>Male</td>\n",
       "      <td>Less than 15 years</td>\n",
       "      <td>Non-Hispanic Black</td>\n",
       "      <td>United States</td>\n",
       "      <td>15</td>\n",
       "      <td>4687984</td>\n",
       "      <td>0.3</td>\n",
       "      <td>0.1</td>\n",
       "      <td>0.2</td>\n",
       "      <td>0.5</td>\n",
       "      <td>NaN</td>\n",
       "      <td>NaN</td>\n",
       "      <td>NaN</td>\n",
       "      <td>NaN</td>\n",
       "      <td>NaN</td>\n",
       "      <td>12.0</td>\n",
       "      <td>11.9</td>\n",
       "    </tr>\n",
       "    <tr>\n",
       "      <th>3</th>\n",
       "      <td>2003</td>\n",
       "      <td>Both Sexes</td>\n",
       "      <td>35-44 years</td>\n",
       "      <td>Non-Hispanic White</td>\n",
       "      <td>United States</td>\n",
       "      <td>6533</td>\n",
       "      <td>30270056</td>\n",
       "      <td>21.6</td>\n",
       "      <td>0.3</td>\n",
       "      <td>21.1</td>\n",
       "      <td>22.1</td>\n",
       "      <td>NaN</td>\n",
       "      <td>NaN</td>\n",
       "      <td>NaN</td>\n",
       "      <td>NaN</td>\n",
       "      <td>NaN</td>\n",
       "      <td>8.9</td>\n",
       "      <td>8.9</td>\n",
       "    </tr>\n",
       "    <tr>\n",
       "      <th>4</th>\n",
       "      <td>2010</td>\n",
       "      <td>Female</td>\n",
       "      <td>Less than 15 years</td>\n",
       "      <td>Non-Hispanic White</td>\n",
       "      <td>United States</td>\n",
       "      <td>28</td>\n",
       "      <td>16460571</td>\n",
       "      <td>0.2</td>\n",
       "      <td>0.0</td>\n",
       "      <td>0.1</td>\n",
       "      <td>0.2</td>\n",
       "      <td>NaN</td>\n",
       "      <td>NaN</td>\n",
       "      <td>NaN</td>\n",
       "      <td>NaN</td>\n",
       "      <td>NaN</td>\n",
       "      <td>12.4</td>\n",
       "      <td>12.3</td>\n",
       "    </tr>\n",
       "  </tbody>\n",
       "</table>\n",
       "</div>"
      ],
      "text/plain": [
       "   Year         Sex                 Age Race and Hispanic Origin  \\\n",
       "0  2014  Both Sexes         15-24 years    All Races-All Origins   \n",
       "1  2012        Male         15-24 years       Non-Hispanic White   \n",
       "2  2008        Male  Less than 15 years       Non-Hispanic Black   \n",
       "3  2003  Both Sexes         35-44 years       Non-Hispanic White   \n",
       "4  2010      Female  Less than 15 years       Non-Hispanic White   \n",
       "\n",
       "           State  Deaths  Population  Crude Death Rate  \\\n",
       "0  United States    3798    43979821               8.6   \n",
       "1  United States    2137    12857283              16.6   \n",
       "2  United States      15     4687984               0.3   \n",
       "3  United States    6533    30270056              21.6   \n",
       "4  United States      28    16460571               0.2   \n",
       "\n",
       "   Standard Error for Crude Rate  Low Confidence Limit for Crude Rate  \\\n",
       "0                            0.1                                  8.4   \n",
       "1                            0.4                                 15.9   \n",
       "2                            0.1                                  0.2   \n",
       "3                            0.3                                 21.1   \n",
       "4                            0.0                                  0.1   \n",
       "\n",
       "   Upper Confidence Limit for Crude Rate  Age-adjusted Rate  \\\n",
       "0                                    8.9                NaN   \n",
       "1                                   17.3                NaN   \n",
       "2                                    0.5                NaN   \n",
       "3                                   22.1                NaN   \n",
       "4                                    0.2                NaN   \n",
       "\n",
       "   Standard Error Age-adjusted Rate  \\\n",
       "0                               NaN   \n",
       "1                               NaN   \n",
       "2                               NaN   \n",
       "3                               NaN   \n",
       "4                               NaN   \n",
       "\n",
       "   Lower Confidence Limit for Age-adjusted rate  \\\n",
       "0                                           NaN   \n",
       "1                                           NaN   \n",
       "2                                           NaN   \n",
       "3                                           NaN   \n",
       "4                                           NaN   \n",
       "\n",
       "   Upper Confidence Limit for Age-adjusted Rate State Crude Rate in Range  \\\n",
       "0                                           NaN                       NaN   \n",
       "1                                           NaN                       NaN   \n",
       "2                                           NaN                       NaN   \n",
       "3                                           NaN                       NaN   \n",
       "4                                           NaN                       NaN   \n",
       "\n",
       "   US Crude Rate  US Age-adjusted Rate  \n",
       "0           14.8                  14.7  \n",
       "1           13.2                  13.1  \n",
       "2           12.0                  11.9  \n",
       "3            8.9                   8.9  \n",
       "4           12.4                  12.3  "
      ]
     },
     "execution_count": 3,
     "metadata": {},
     "output_type": "execute_result"
    }
   ],
   "source": [
    "df0.head()"
   ]
  },
  {
   "cell_type": "code",
   "execution_count": 4,
   "metadata": {},
   "outputs": [
    {
     "data": {
      "text/plain": [
       "array(['15-24 years', 'Less than 15 years', '35-44 years', '45-54 years',\n",
       "       '75+ years', '55-64 years', '65-74 years', '25-34 years',\n",
       "       'All Ages'], dtype=object)"
      ]
     },
     "execution_count": 4,
     "metadata": {},
     "output_type": "execute_result"
    }
   ],
   "source": [
    "df0['Age'].unique()"
   ]
  },
  {
   "cell_type": "code",
   "execution_count": 5,
   "metadata": {},
   "outputs": [
    {
     "data": {
      "text/plain": [
       "Index(['Year', 'Sex', 'Age', 'Race and Hispanic Origin', 'State', 'Deaths',\n",
       "       'Population', 'Crude Death Rate', 'Standard Error for Crude Rate',\n",
       "       'Low Confidence Limit for Crude Rate',\n",
       "       'Upper Confidence Limit for Crude Rate', 'Age-adjusted Rate',\n",
       "       'Standard Error Age-adjusted Rate',\n",
       "       'Lower Confidence Limit for Age-adjusted rate',\n",
       "       'Upper Confidence Limit for Age-adjusted Rate',\n",
       "       'State Crude Rate in Range', 'US Crude Rate', 'US Age-adjusted Rate'],\n",
       "      dtype='object')"
      ]
     },
     "execution_count": 5,
     "metadata": {},
     "output_type": "execute_result"
    }
   ],
   "source": [
    "df0.columns"
   ]
  },
  {
   "cell_type": "code",
   "execution_count": 6,
   "metadata": {},
   "outputs": [],
   "source": [
    "feats = df0.drop(['Deaths'], axis=1)\n",
    "labels = df0['Deaths']"
   ]
  },
  {
   "cell_type": "code",
   "execution_count": 7,
   "metadata": {},
   "outputs": [
    {
     "data": {
      "text/html": [
       "<div>\n",
       "<style scoped>\n",
       "    .dataframe tbody tr th:only-of-type {\n",
       "        vertical-align: middle;\n",
       "    }\n",
       "\n",
       "    .dataframe tbody tr th {\n",
       "        vertical-align: top;\n",
       "    }\n",
       "\n",
       "    .dataframe thead th {\n",
       "        text-align: right;\n",
       "    }\n",
       "</style>\n",
       "<table border=\"1\" class=\"dataframe\">\n",
       "  <thead>\n",
       "    <tr style=\"text-align: right;\">\n",
       "      <th></th>\n",
       "      <th>Year</th>\n",
       "      <th>Sex</th>\n",
       "      <th>Age</th>\n",
       "      <th>Race and Hispanic Origin</th>\n",
       "      <th>State</th>\n",
       "      <th>Deaths</th>\n",
       "      <th>Population</th>\n",
       "      <th>Crude Death Rate</th>\n",
       "      <th>Standard Error for Crude Rate</th>\n",
       "      <th>Low Confidence Limit for Crude Rate</th>\n",
       "      <th>Upper Confidence Limit for Crude Rate</th>\n",
       "      <th>US Crude Rate</th>\n",
       "    </tr>\n",
       "  </thead>\n",
       "  <tbody>\n",
       "    <tr>\n",
       "      <th>0</th>\n",
       "      <td>2014</td>\n",
       "      <td>Both Sexes</td>\n",
       "      <td>15-24 years</td>\n",
       "      <td>All Races-All Origins</td>\n",
       "      <td>United States</td>\n",
       "      <td>3798</td>\n",
       "      <td>43979821</td>\n",
       "      <td>8.6</td>\n",
       "      <td>0.1</td>\n",
       "      <td>8.4</td>\n",
       "      <td>8.9</td>\n",
       "      <td>14.8</td>\n",
       "    </tr>\n",
       "    <tr>\n",
       "      <th>1</th>\n",
       "      <td>2012</td>\n",
       "      <td>Male</td>\n",
       "      <td>15-24 years</td>\n",
       "      <td>Non-Hispanic White</td>\n",
       "      <td>United States</td>\n",
       "      <td>2137</td>\n",
       "      <td>12857283</td>\n",
       "      <td>16.6</td>\n",
       "      <td>0.4</td>\n",
       "      <td>15.9</td>\n",
       "      <td>17.3</td>\n",
       "      <td>13.2</td>\n",
       "    </tr>\n",
       "    <tr>\n",
       "      <th>2</th>\n",
       "      <td>2008</td>\n",
       "      <td>Male</td>\n",
       "      <td>Less than 15 years</td>\n",
       "      <td>Non-Hispanic Black</td>\n",
       "      <td>United States</td>\n",
       "      <td>15</td>\n",
       "      <td>4687984</td>\n",
       "      <td>0.3</td>\n",
       "      <td>0.1</td>\n",
       "      <td>0.2</td>\n",
       "      <td>0.5</td>\n",
       "      <td>12.0</td>\n",
       "    </tr>\n",
       "    <tr>\n",
       "      <th>3</th>\n",
       "      <td>2003</td>\n",
       "      <td>Both Sexes</td>\n",
       "      <td>35-44 years</td>\n",
       "      <td>Non-Hispanic White</td>\n",
       "      <td>United States</td>\n",
       "      <td>6533</td>\n",
       "      <td>30270056</td>\n",
       "      <td>21.6</td>\n",
       "      <td>0.3</td>\n",
       "      <td>21.1</td>\n",
       "      <td>22.1</td>\n",
       "      <td>8.9</td>\n",
       "    </tr>\n",
       "    <tr>\n",
       "      <th>4</th>\n",
       "      <td>2010</td>\n",
       "      <td>Female</td>\n",
       "      <td>Less than 15 years</td>\n",
       "      <td>Non-Hispanic White</td>\n",
       "      <td>United States</td>\n",
       "      <td>28</td>\n",
       "      <td>16460571</td>\n",
       "      <td>0.2</td>\n",
       "      <td>0.0</td>\n",
       "      <td>0.1</td>\n",
       "      <td>0.2</td>\n",
       "      <td>12.4</td>\n",
       "    </tr>\n",
       "  </tbody>\n",
       "</table>\n",
       "</div>"
      ],
      "text/plain": [
       "   Year         Sex                 Age Race and Hispanic Origin  \\\n",
       "0  2014  Both Sexes         15-24 years    All Races-All Origins   \n",
       "1  2012        Male         15-24 years       Non-Hispanic White   \n",
       "2  2008        Male  Less than 15 years       Non-Hispanic Black   \n",
       "3  2003  Both Sexes         35-44 years       Non-Hispanic White   \n",
       "4  2010      Female  Less than 15 years       Non-Hispanic White   \n",
       "\n",
       "           State  Deaths  Population  Crude Death Rate  \\\n",
       "0  United States    3798    43979821               8.6   \n",
       "1  United States    2137    12857283              16.6   \n",
       "2  United States      15     4687984               0.3   \n",
       "3  United States    6533    30270056              21.6   \n",
       "4  United States      28    16460571               0.2   \n",
       "\n",
       "   Standard Error for Crude Rate  Low Confidence Limit for Crude Rate  \\\n",
       "0                            0.1                                  8.4   \n",
       "1                            0.4                                 15.9   \n",
       "2                            0.1                                  0.2   \n",
       "3                            0.3                                 21.1   \n",
       "4                            0.0                                  0.1   \n",
       "\n",
       "   Upper Confidence Limit for Crude Rate  US Crude Rate  \n",
       "0                                    8.9           14.8  \n",
       "1                                   17.3           13.2  \n",
       "2                                    0.5           12.0  \n",
       "3                                   22.1            8.9  \n",
       "4                                    0.2           12.4  "
      ]
     },
     "execution_count": 7,
     "metadata": {},
     "output_type": "execute_result"
    }
   ],
   "source": [
    "df1 = df0.drop(['Age-adjusted Rate',\n",
    "                'Standard Error Age-adjusted Rate',\n",
    "                'Lower Confidence Limit for Age-adjusted rate',\n",
    "                'Upper Confidence Limit for Age-adjusted Rate',\n",
    "                'State Crude Rate in Range',\n",
    "                'US Age-adjusted Rate'], axis=1)\n",
    "df1.head()"
   ]
  },
  {
   "cell_type": "code",
   "execution_count": 8,
   "metadata": {},
   "outputs": [
    {
     "data": {
      "text/plain": [
       "Index(['Year', 'Sex', 'Age', 'Race and Hispanic Origin', 'State', 'Deaths',\n",
       "       'Population', 'Crude Death Rate', 'Standard Error for Crude Rate',\n",
       "       'Low Confidence Limit for Crude Rate',\n",
       "       'Upper Confidence Limit for Crude Rate', 'US Crude Rate'],\n",
       "      dtype='object')"
      ]
     },
     "execution_count": 8,
     "metadata": {},
     "output_type": "execute_result"
    }
   ],
   "source": [
    "df1.columns"
   ]
  },
  {
   "cell_type": "code",
   "execution_count": 9,
   "metadata": {},
   "outputs": [
    {
     "data": {
      "text/plain": [
       "Year                                       int64\n",
       "Sex                                       object\n",
       "Age                                       object\n",
       "Race and Hispanic Origin                  object\n",
       "State                                     object\n",
       "Deaths                                     int64\n",
       "Population                                 int64\n",
       "Crude Death Rate                         float64\n",
       "Standard Error for Crude Rate            float64\n",
       "Low Confidence Limit for Crude Rate      float64\n",
       "Upper Confidence Limit for Crude Rate    float64\n",
       "US Crude Rate                            float64\n",
       "dtype: object"
      ]
     },
     "execution_count": 9,
     "metadata": {},
     "output_type": "execute_result"
    }
   ],
   "source": [
    "df1.dtypes"
   ]
  },
  {
   "cell_type": "code",
   "execution_count": 10,
   "metadata": {},
   "outputs": [],
   "source": [
    "df2 = df1.drop(['Crude Death Rate', \n",
    "                'Standard Error for Crude Rate',\n",
    "                'Low Confidence Limit for Crude Rate',\n",
    "                'Upper Confidence Limit for Crude Rate', \n",
    "                'US Crude Rate'], axis=1)"
   ]
  },
  {
   "cell_type": "code",
   "execution_count": 11,
   "metadata": {},
   "outputs": [
    {
     "data": {
      "text/html": [
       "<div>\n",
       "<style scoped>\n",
       "    .dataframe tbody tr th:only-of-type {\n",
       "        vertical-align: middle;\n",
       "    }\n",
       "\n",
       "    .dataframe tbody tr th {\n",
       "        vertical-align: top;\n",
       "    }\n",
       "\n",
       "    .dataframe thead th {\n",
       "        text-align: right;\n",
       "    }\n",
       "</style>\n",
       "<table border=\"1\" class=\"dataframe\">\n",
       "  <thead>\n",
       "    <tr style=\"text-align: right;\">\n",
       "      <th></th>\n",
       "      <th>Year</th>\n",
       "      <th>Sex</th>\n",
       "      <th>Age</th>\n",
       "      <th>Race and Hispanic Origin</th>\n",
       "      <th>State</th>\n",
       "      <th>Deaths</th>\n",
       "      <th>Population</th>\n",
       "    </tr>\n",
       "  </thead>\n",
       "  <tbody>\n",
       "    <tr>\n",
       "      <th>0</th>\n",
       "      <td>2014</td>\n",
       "      <td>Both Sexes</td>\n",
       "      <td>15-24 years</td>\n",
       "      <td>All Races-All Origins</td>\n",
       "      <td>United States</td>\n",
       "      <td>3798</td>\n",
       "      <td>43979821</td>\n",
       "    </tr>\n",
       "    <tr>\n",
       "      <th>1</th>\n",
       "      <td>2012</td>\n",
       "      <td>Male</td>\n",
       "      <td>15-24 years</td>\n",
       "      <td>Non-Hispanic White</td>\n",
       "      <td>United States</td>\n",
       "      <td>2137</td>\n",
       "      <td>12857283</td>\n",
       "    </tr>\n",
       "    <tr>\n",
       "      <th>2</th>\n",
       "      <td>2008</td>\n",
       "      <td>Male</td>\n",
       "      <td>Less than 15 years</td>\n",
       "      <td>Non-Hispanic Black</td>\n",
       "      <td>United States</td>\n",
       "      <td>15</td>\n",
       "      <td>4687984</td>\n",
       "    </tr>\n",
       "    <tr>\n",
       "      <th>3</th>\n",
       "      <td>2003</td>\n",
       "      <td>Both Sexes</td>\n",
       "      <td>35-44 years</td>\n",
       "      <td>Non-Hispanic White</td>\n",
       "      <td>United States</td>\n",
       "      <td>6533</td>\n",
       "      <td>30270056</td>\n",
       "    </tr>\n",
       "    <tr>\n",
       "      <th>4</th>\n",
       "      <td>2010</td>\n",
       "      <td>Female</td>\n",
       "      <td>Less than 15 years</td>\n",
       "      <td>Non-Hispanic White</td>\n",
       "      <td>United States</td>\n",
       "      <td>28</td>\n",
       "      <td>16460571</td>\n",
       "    </tr>\n",
       "  </tbody>\n",
       "</table>\n",
       "</div>"
      ],
      "text/plain": [
       "   Year         Sex                 Age Race and Hispanic Origin  \\\n",
       "0  2014  Both Sexes         15-24 years    All Races-All Origins   \n",
       "1  2012        Male         15-24 years       Non-Hispanic White   \n",
       "2  2008        Male  Less than 15 years       Non-Hispanic Black   \n",
       "3  2003  Both Sexes         35-44 years       Non-Hispanic White   \n",
       "4  2010      Female  Less than 15 years       Non-Hispanic White   \n",
       "\n",
       "           State  Deaths  Population  \n",
       "0  United States    3798    43979821  \n",
       "1  United States    2137    12857283  \n",
       "2  United States      15     4687984  \n",
       "3  United States    6533    30270056  \n",
       "4  United States      28    16460571  "
      ]
     },
     "execution_count": 11,
     "metadata": {},
     "output_type": "execute_result"
    }
   ],
   "source": [
    "df2.head()"
   ]
  },
  {
   "cell_type": "code",
   "execution_count": 12,
   "metadata": {},
   "outputs": [
    {
     "data": {
      "text/plain": [
       "Year                         int64\n",
       "Sex                         object\n",
       "Age                         object\n",
       "Race and Hispanic Origin    object\n",
       "State                       object\n",
       "Deaths                       int64\n",
       "Population                   int64\n",
       "dtype: object"
      ]
     },
     "execution_count": 12,
     "metadata": {},
     "output_type": "execute_result"
    }
   ],
   "source": [
    "df2.dtypes"
   ]
  },
  {
   "cell_type": "code",
   "execution_count": 13,
   "metadata": {},
   "outputs": [
    {
     "data": {
      "text/plain": [
       "Year                                       int64\n",
       "Sex                                       object\n",
       "Age                                       object\n",
       "Race and Hispanic Origin                  object\n",
       "State                                     object\n",
       "Deaths                                     int64\n",
       "Population                                 int64\n",
       "Crude Death Rate                         float64\n",
       "Standard Error for Crude Rate            float64\n",
       "Low Confidence Limit for Crude Rate      float64\n",
       "Upper Confidence Limit for Crude Rate    float64\n",
       "US Crude Rate                            float64\n",
       "dtype: object"
      ]
     },
     "execution_count": 13,
     "metadata": {},
     "output_type": "execute_result"
    }
   ],
   "source": [
    "df2['Year'] = df2['Year'].astype('category')\n",
    "df2['Sex'] = df2['Sex'].astype('category')\n",
    "df2['Age'] = df2['Age'].astype('category')\n",
    "df2['Race and Hispanic Origin'] = df1['Race and Hispanic Origin'].astype('category')\n",
    "df2['State'] = df2['State'].astype('category')\n",
    "\n",
    "df1.dtypes"
   ]
  },
  {
   "cell_type": "code",
   "execution_count": 14,
   "metadata": {},
   "outputs": [],
   "source": [
    "df2o = pd.get_dummies(df2, columns=['Year', 'Sex', 'Age', 'Race and Hispanic Origin', 'State'])\n",
    "df2o.columns;"
   ]
  },
  {
   "cell_type": "code",
   "execution_count": 15,
   "metadata": {},
   "outputs": [],
   "source": [
    "df2o['Rate'] = 100000 * df2o['Deaths'] / df2o['Population']"
   ]
  },
  {
   "cell_type": "markdown",
   "metadata": {},
   "source": [
    "## Decision Tree Model\n",
    "\n",
    "### Using MSE"
   ]
  },
  {
   "cell_type": "code",
   "execution_count": 16,
   "metadata": {},
   "outputs": [
    {
     "data": {
      "text/plain": [
       "DecisionTreeRegressor(criterion='mse', max_depth=None, max_features=None,\n",
       "           max_leaf_nodes=None, min_impurity_decrease=0.0,\n",
       "           min_impurity_split=None, min_samples_leaf=1,\n",
       "           min_samples_split=2, min_weight_fraction_leaf=0.0,\n",
       "           presort=False, random_state=0, splitter='best')"
      ]
     },
     "execution_count": 16,
     "metadata": {},
     "output_type": "execute_result"
    }
   ],
   "source": [
    "dTree_mse = DecisionTreeRegressor(random_state=0, criterion='mse')\n",
    "dTree_mse.fit(df2o.drop(['Deaths', 'Population', 'Rate'],axis=1), df2o['Rate'])"
   ]
  },
  {
   "cell_type": "code",
   "execution_count": 17,
   "metadata": {},
   "outputs": [],
   "source": [
    "dTree_mse.feature_importances_;"
   ]
  },
  {
   "cell_type": "code",
   "execution_count": 18,
   "metadata": {},
   "outputs": [
    {
     "name": "stdout",
     "output_type": "stream",
     "text": [
      "Year_1999 has importance 0.025312568734438427\n",
      "Year_2000 has importance 0.024970558887373418\n",
      "Year_2001 has importance 0.021689686344598638\n",
      "Year_2002 has importance 0.014666054217146292\n",
      "Year_2003 has importance 0.011083774457541813\n",
      "Year_2004 has importance 0.009522443400563524\n",
      "Year_2005 has importance 0.007555971047297281\n",
      "Year_2006 has importance 0.0036405362954655286\n",
      "Year_2007 has importance 0.0021396879540066826\n",
      "Year_2008 has importance 0.0013478480210982232\n",
      "Year_2009 has importance 0.0022823966818505074\n",
      "Year_2010 has importance 0.0017233100429176402\n",
      "Year_2011 has importance 0.0017587698107477386\n",
      "Year_2012 has importance 0.001924169016262432\n",
      "Year_2013 has importance 0.006104055151493212\n",
      "Year_2014 has importance 0.013675262394648148\n",
      "Year_2015 has importance 0.031909225980641005\n",
      "Sex_Both Sexes has importance 0.014015131418036326\n",
      "Sex_Female has importance 0.022043999756405704\n",
      "Sex_Male has importance 0.06033811976270813\n",
      "Age_15-24 years has importance 0.03734041605003287\n",
      "Age_25-34 years has importance 0.014379455163094476\n",
      "Age_35-44 years has importance 0.08402466754107513\n",
      "Age_45-54 years has importance 0.13655998454327978\n",
      "Age_55-64 years has importance 0.005449167848243795\n",
      "Age_65-74 years has importance 0.047516142348781085\n",
      "Age_75+ years has importance 0.054323984726876745\n",
      "Age_All Ages has importance 0.004580101469494531\n",
      "Age_Less than 15 years has importance 0.11010307458030685\n",
      "Race and Hispanic Origin_All Races-All Origins has importance 0.012671802117678295\n",
      "Race and Hispanic Origin_Hispanic has importance 0.07369353956982076\n",
      "Race and Hispanic Origin_Non-Hispanic Black has importance 0.02964256844833662\n",
      "Race and Hispanic Origin_Non-Hispanic White has importance 0.028113642142044617\n",
      "State_Alabama has importance 0.00048402761250951597\n",
      "State_Alaska has importance 0.0008768776722710074\n",
      "State_Arizona has importance 0.0013224082340388612\n",
      "State_Arkansas has importance 0.0001703559001010808\n",
      "State_California has importance 0.00025789176657920615\n",
      "State_Colorado has importance 0.0007029322349366582\n",
      "State_Connecticut has importance 0.0006535191391726686\n",
      "State_Delaware has importance 0.0008820143624964209\n",
      "State_District of Columbia has importance 0.0022114929385543434\n",
      "State_Florida has importance 0.000783998249571569\n",
      "State_Georgia has importance 0.00017227413077574007\n",
      "State_Hawaii has importance 0.0002714095000986217\n",
      "State_Idaho has importance 0.00015837263434209824\n",
      "State_Illinois has importance 0.000126172464028693\n",
      "State_Indiana has importance 0.00044111865894266535\n",
      "State_Iowa has importance 0.0023922790967558336\n",
      "State_Kansas has importance 0.0005466130402852755\n",
      "State_Kentucky has importance 0.004705309532584907\n",
      "State_Louisiana has importance 0.0007925190012778336\n",
      "State_Maine has importance 0.0004181233771361509\n",
      "State_Maryland has importance 0.0014592846075986551\n",
      "State_Massachusetts has importance 0.0011835372743080387\n",
      "State_Michigan has importance 0.0003535367215935444\n",
      "State_Minnesota has importance 0.0019098887955943\n",
      "State_Mississippi has importance 0.00018316170671008205\n",
      "State_Missouri has importance 0.00046948985428697413\n",
      "State_Montana has importance 0.00019848616896585568\n",
      "State_Nebraska has importance 0.0038042465508639485\n",
      "State_Nevada has importance 0.005338416406751106\n",
      "State_New Hampshire has importance 0.0021347876026535837\n",
      "State_New Jersey has importance 0.0006249133974206646\n",
      "State_New Mexico has importance 0.009123975267370662\n",
      "State_New York has importance 0.0010032240111492808\n",
      "State_North Carolina has importance 0.00013327498618160915\n",
      "State_North Dakota has importance 0.005926011924132404\n",
      "State_Ohio has importance 0.0019244248083293413\n",
      "State_Oklahoma has importance 0.002039899016686901\n",
      "State_Oregon has importance 0.00022978936017576112\n",
      "State_Pennsylvania has importance 0.0016606337465893638\n",
      "State_Rhode Island has importance 0.00283143820956025\n",
      "State_South Carolina has importance 0.00017953173589257824\n",
      "State_South Dakota has importance 0.0037036293916319824\n",
      "State_Tennessee has importance 0.0013473192721754552\n",
      "State_Texas has importance 0.001001988176207293\n",
      "State_United States has importance 0.00014003323818387173\n",
      "State_Utah has importance 0.00307023228027331\n",
      "State_Vermont has importance 7.317148465454582e-05\n",
      "State_Virginia has importance 0.0007796942350905747\n",
      "State_Washington has importance 0.0007419753939927351\n",
      "State_West Virginia has importance 0.011324734405982554\n",
      "State_Wisconsin has importance 8.979913489207644e-05\n",
      "State_Wyoming has importance 0.0005436453633353047\n"
     ]
    }
   ],
   "source": [
    "for i in range(len(df2o.drop(['Deaths', 'Population', 'Rate'],axis=1).columns)):\n",
    "    print(df2o.drop(['Deaths', 'Population', 'Rate'],axis=1).columns[i], \"has importance\", dTree_mse.feature_importances_[i])"
   ]
  },
  {
   "cell_type": "code",
   "execution_count": 19,
   "metadata": {},
   "outputs": [],
   "source": [
    "tots_DTmse = [['Year', 0], ['Sex', 0], ['Age', 0], ['Race and Hispanic Origin', 0], ['State', 0]]\n",
    "for elem in tots_DTmse:\n",
    "    for i in range(len(df2o.drop(['Deaths', 'Population', 'Rate'],axis=1).columns)):\n",
    "        if elem[0] in df2o.drop(['Deaths', 'Population', 'Rate'],axis=1).columns[i]:\n",
    "            elem[1] = elem[1] + dTree_mse.feature_importances_[i]"
   ]
  },
  {
   "cell_type": "code",
   "execution_count": 20,
   "metadata": {
    "scrolled": true
   },
   "outputs": [
    {
     "data": {
      "text/plain": [
       "[['Year', 0.1813063184380905],\n",
       " ['Sex', 0.09639725093715015],\n",
       " ['Age', 0.4942769942711852],\n",
       " ['Race and Hispanic Origin', 0.1441215522778803],\n",
       " ['State', 0.08389788407569373]]"
      ]
     },
     "execution_count": 20,
     "metadata": {},
     "output_type": "execute_result"
    }
   ],
   "source": [
    "tots_DTmse"
   ]
  },
  {
   "cell_type": "markdown",
   "metadata": {},
   "source": [
    "### Freidman MSE"
   ]
  },
  {
   "cell_type": "code",
   "execution_count": 21,
   "metadata": {},
   "outputs": [
    {
     "data": {
      "text/plain": [
       "DecisionTreeRegressor(criterion='friedman_mse', max_depth=None,\n",
       "           max_features=None, max_leaf_nodes=None,\n",
       "           min_impurity_decrease=0.0, min_impurity_split=None,\n",
       "           min_samples_leaf=1, min_samples_split=2,\n",
       "           min_weight_fraction_leaf=0.0, presort=False, random_state=0,\n",
       "           splitter='best')"
      ]
     },
     "execution_count": 21,
     "metadata": {},
     "output_type": "execute_result"
    }
   ],
   "source": [
    "dTree_fmse = DecisionTreeRegressor(random_state=0, criterion='friedman_mse')\n",
    "dTree_fmse.fit(df2o.drop(['Deaths', 'Population', 'Rate'],axis=1), df2o['Rate'])"
   ]
  },
  {
   "cell_type": "code",
   "execution_count": 22,
   "metadata": {},
   "outputs": [],
   "source": [
    "dTree_fmse.feature_importances_;"
   ]
  },
  {
   "cell_type": "code",
   "execution_count": 23,
   "metadata": {},
   "outputs": [
    {
     "name": "stdout",
     "output_type": "stream",
     "text": [
      "Year_1999 has importance 0.025312556621402475\n",
      "Year_2000 has importance 0.02497054051638303\n",
      "Year_2001 has importance 0.021689688751530375\n",
      "Year_2002 has importance 0.014666080711836555\n",
      "Year_2003 has importance 0.011083739560626565\n",
      "Year_2004 has importance 0.00952243120255167\n",
      "Year_2005 has importance 0.0075559943448839945\n",
      "Year_2006 has importance 0.003640534568067517\n",
      "Year_2007 has importance 0.002136423240252491\n",
      "Year_2008 has importance 0.0013448721994259373\n",
      "Year_2009 has importance 0.002285265094619711\n",
      "Year_2010 has importance 0.0017255947121432198\n",
      "Year_2011 has importance 0.0017593431340396518\n",
      "Year_2012 has importance 0.0019246588820285055\n",
      "Year_2013 has importance 0.006104450909179077\n",
      "Year_2014 has importance 0.013674916842906637\n",
      "Year_2015 has importance 0.03190922714621336\n",
      "Sex_Both Sexes has importance 0.014883150415179012\n",
      "Sex_Female has importance 0.019683872382972933\n",
      "Sex_Male has importance 0.06183022813899825\n",
      "Age_15-24 years has importance 0.03734041605003287\n",
      "Age_25-34 years has importance 0.014292138461701766\n",
      "Age_35-44 years has importance 0.08402466754107513\n",
      "Age_45-54 years has importance 0.13655998454327978\n",
      "Age_55-64 years has importance 0.005336257478341732\n",
      "Age_65-74 years has importance 0.047516142348781085\n",
      "Age_75+ years has importance 0.054323984726876745\n",
      "Age_All Ages has importance 0.004780328540789343\n",
      "Age_Less than 15 years has importance 0.11010307458030685\n",
      "Race and Hispanic Origin_All Races-All Origins has importance 0.009281891727425783\n",
      "Race and Hispanic Origin_Hispanic has importance 0.07370004510931882\n",
      "Race and Hispanic Origin_Non-Hispanic Black has importance 0.03331933610169758\n",
      "Race and Hispanic Origin_Non-Hispanic White has importance 0.02782027933943772\n",
      "State_Alabama has importance 0.0004840276125095379\n",
      "State_Alaska has importance 0.000876877672271031\n",
      "State_Arizona has importance 0.0013224082340389384\n",
      "State_Arkansas has importance 0.00017035575623305075\n",
      "State_California has importance 0.00025788216323452943\n",
      "State_Colorado has importance 0.0007029322260747855\n",
      "State_Connecticut has importance 0.0006535191391725823\n",
      "State_Delaware has importance 0.0008820143624963933\n",
      "State_District of Columbia has importance 0.002211492938554379\n",
      "State_Florida has importance 0.0007839982584334184\n",
      "State_Georgia has importance 0.00017227388917502497\n",
      "State_Hawaii has importance 0.0002713993944083593\n",
      "State_Idaho has importance 0.00015837263434207983\n",
      "State_Illinois has importance 0.0001261726078966809\n",
      "State_Indiana has importance 0.0004411215580170126\n",
      "State_Iowa has importance 0.0023922790967558323\n",
      "State_Kansas has importance 0.0005466130402852581\n",
      "State_Kentucky has importance 0.004705309532584865\n",
      "State_Louisiana has importance 0.0007925190012778161\n",
      "State_Maine has importance 0.0004181233834487274\n",
      "State_Maryland has importance 0.0014592846075985968\n",
      "State_Massachusetts has importance 0.001183537274307946\n",
      "State_Michigan has importance 0.0003535367215935533\n",
      "State_Minnesota has importance 0.0019098887955942433\n",
      "State_Mississippi has importance 0.0001831713100547506\n",
      "State_Missouri has importance 0.0004694898542869441\n",
      "State_Montana has importance 0.00019848616896588436\n",
      "State_Nebraska has importance 0.00380424655086386\n",
      "State_Nevada has importance 0.0053384164067511375\n",
      "State_New Hampshire has importance 0.002134787602653683\n",
      "State_New Jersey has importance 0.0006249133974206661\n",
      "State_New Mexico has importance 0.009123975267370662\n",
      "State_New York has importance 0.0010032240111492738\n",
      "State_North Carolina has importance 0.00013327498618159427\n",
      "State_North Dakota has importance 0.005926011924132393\n",
      "State_Ohio has importance 0.0019244248083295009\n",
      "State_Oklahoma has importance 0.0020398990166869964\n",
      "State_Oregon has importance 0.00022978936017579776\n",
      "State_Pennsylvania has importance 0.0016606337465893473\n",
      "State_Rhode Island has importance 0.0028314382095602207\n",
      "State_South Carolina has importance 0.00017953173589257263\n",
      "State_South Dakota has importance 0.0037036293916321507\n",
      "State_Tennessee has importance 0.0013473192721755733\n",
      "State_Texas has importance 0.0010019881698946724\n",
      "State_United States has importance 0.00014003416384692968\n",
      "State_Utah has importance 0.0030702322802733154\n",
      "State_Vermont has importance 7.317776560737289e-05\n",
      "State_Virginia has importance 0.0007796942350905644\n",
      "State_Washington has importance 0.0007419753939927271\n",
      "State_West Virginia has importance 0.011324734405982473\n",
      "State_Wisconsin has importance 8.979913489209406e-05\n",
      "State_Wyoming has importance 0.0005436456049360025\n"
     ]
    }
   ],
   "source": [
    "for i in range(len(df2o.drop(['Deaths', 'Population', 'Rate'],axis=1).columns)):\n",
    "    print(df2o.drop(['Deaths', 'Population', 'Rate'],axis=1).columns[i], \"has importance\", dTree_fmse.feature_importances_[i])"
   ]
  },
  {
   "cell_type": "code",
   "execution_count": 24,
   "metadata": {},
   "outputs": [],
   "source": [
    "tots_DTfmse = [['Year', 0], ['Sex', 0], ['Age', 0], ['Race and Hispanic Origin', 0], ['State', 0]]\n",
    "for elem in tots_DTfmse:\n",
    "    for i in range(len(df2o.drop(['Deaths', 'Population', 'Rate'],axis=1).columns)):\n",
    "        if elem[0] in df2o.drop(['Deaths', 'Population', 'Rate'],axis=1).columns[i]:\n",
    "            elem[1] = elem[1] + dTree_fmse.feature_importances_[i]"
   ]
  },
  {
   "cell_type": "code",
   "execution_count": 25,
   "metadata": {
    "scrolled": false
   },
   "outputs": [
    {
     "data": {
      "text/plain": [
       "[['Year', 0.18130631843809078],\n",
       " ['Sex', 0.0963972509371502],\n",
       " ['Age', 0.4942769942711853],\n",
       " ['Race and Hispanic Origin', 0.14412155227787993],\n",
       " ['State', 0.08389788407569382]]"
      ]
     },
     "execution_count": 25,
     "metadata": {},
     "output_type": "execute_result"
    }
   ],
   "source": [
    "tots_DTfmse"
   ]
  },
  {
   "cell_type": "markdown",
   "metadata": {},
   "source": [
    "### MAE"
   ]
  },
  {
   "cell_type": "code",
   "execution_count": 26,
   "metadata": {},
   "outputs": [
    {
     "data": {
      "text/plain": [
       "DecisionTreeRegressor(criterion='mae', max_depth=None, max_features=None,\n",
       "           max_leaf_nodes=None, min_impurity_decrease=0.0,\n",
       "           min_impurity_split=None, min_samples_leaf=1,\n",
       "           min_samples_split=2, min_weight_fraction_leaf=0.0,\n",
       "           presort=False, random_state=0, splitter='best')"
      ]
     },
     "execution_count": 26,
     "metadata": {},
     "output_type": "execute_result"
    }
   ],
   "source": [
    "dTree_mae = DecisionTreeRegressor(random_state=0, criterion='mae')\n",
    "dTree_mae.fit(df2o.drop(['Deaths', 'Population', 'Rate'],axis=1), df2o['Rate'])"
   ]
  },
  {
   "cell_type": "code",
   "execution_count": 27,
   "metadata": {},
   "outputs": [],
   "source": [
    "dTree_mae.feature_importances_;"
   ]
  },
  {
   "cell_type": "code",
   "execution_count": 28,
   "metadata": {},
   "outputs": [
    {
     "name": "stdout",
     "output_type": "stream",
     "text": [
      "Year_1999 has importance 0.02812689219433261\n",
      "Year_2000 has importance 0.028419680020292357\n",
      "Year_2001 has importance 0.024418217306358837\n",
      "Year_2002 has importance 0.019420830798661876\n",
      "Year_2003 has importance 0.015396434122575048\n",
      "Year_2004 has importance 0.014676898544161442\n",
      "Year_2005 has importance 0.011646823190180787\n",
      "Year_2006 has importance 0.010973372113164539\n",
      "Year_2007 has importance 0.00797947134215829\n",
      "Year_2008 has importance 0.006368858465651844\n",
      "Year_2009 has importance 0.0076976141659287345\n",
      "Year_2010 has importance 0.0074052931022256085\n",
      "Year_2011 has importance 0.00872813433130584\n",
      "Year_2012 has importance 0.009220397715239866\n",
      "Year_2013 has importance 0.011039969473915051\n",
      "Year_2014 has importance 0.01485131673386081\n",
      "Year_2015 has importance 0.024506275471771203\n",
      "Sex_Both Sexes has importance 0.013143971112738151\n",
      "Sex_Female has importance 0.03784503441518715\n",
      "Sex_Male has importance 0.04611705239580685\n",
      "Age_15-24 years has importance 0.04297175483917\n",
      "Age_25-34 years has importance 0.014920678710874416\n",
      "Age_35-44 years has importance 0.025091271655958012\n",
      "Age_45-54 years has importance 0.034880464538216666\n",
      "Age_55-64 years has importance 0.01642137505463582\n",
      "Age_65-74 years has importance 0.06326684861211998\n",
      "Age_75+ years has importance 0.07913701139902572\n",
      "Age_All Ages has importance 0.008414314747405881\n",
      "Age_Less than 15 years has importance 0.11058996395057755\n",
      "Race and Hispanic Origin_All Races-All Origins has importance 0.014391836341454326\n",
      "Race and Hispanic Origin_Hispanic has importance 0.053400344527410964\n",
      "Race and Hispanic Origin_Non-Hispanic Black has importance 0.029244491795579763\n",
      "Race and Hispanic Origin_Non-Hispanic White has importance 0.020055006458356842\n",
      "State_Alabama has importance 0.001746960466216622\n",
      "State_Alaska has importance 0.002152417027106693\n",
      "State_Arizona has importance 0.0032642881000305045\n",
      "State_Arkansas has importance 0.0010827366293418511\n",
      "State_California has importance 0.0016435576247540665\n",
      "State_Colorado has importance 0.0022761509757172694\n",
      "State_Connecticut has importance 0.002007916590157904\n",
      "State_Delaware has importance 0.0023961364330816123\n",
      "State_District of Columbia has importance 0.003475260269802517\n",
      "State_Florida has importance 0.0023424183992645357\n",
      "State_Georgia has importance 0.001321549752994327\n",
      "State_Hawaii has importance 0.0012624030450869657\n",
      "State_Idaho has importance 0.0010799854191995435\n",
      "State_Illinois has importance 0.0010903137865434652\n",
      "State_Indiana has importance 0.001256595190874539\n",
      "State_Iowa has importance 0.0045653439332456695\n",
      "State_Kansas has importance 0.0016537726714445577\n",
      "State_Kentucky has importance 0.004776815653885965\n",
      "State_Louisiana has importance 0.002246015588150974\n",
      "State_Maine has importance 0.001449016962157791\n",
      "State_Maryland has importance 0.0030886597047698433\n",
      "State_Massachusetts has importance 0.0025309205995479893\n",
      "State_Michigan has importance 0.001005829408940809\n",
      "State_Minnesota has importance 0.003784725409188597\n",
      "State_Mississippi has importance 0.0015427558921420643\n",
      "State_Missouri has importance 0.0013023090452889132\n",
      "State_Montana has importance 0.0011295668986641334\n",
      "State_Nebraska has importance 0.005679984906595252\n",
      "State_Nevada has importance 0.006452661429199225\n",
      "State_New Hampshire has importance 0.0026465501644039845\n",
      "State_New Jersey has importance 0.001307946580471889\n",
      "State_New Mexico has importance 0.008109452474906818\n",
      "State_New York has importance 0.002714939862003636\n",
      "State_North Carolina has importance 0.000734313837888965\n",
      "State_North Dakota has importance 0.006810335724088616\n",
      "State_Ohio has importance 0.0025633826777240755\n",
      "State_Oklahoma has importance 0.003432546063482284\n",
      "State_Oregon has importance 0.0012541293665908235\n",
      "State_Pennsylvania has importance 0.00329871379126746\n",
      "State_Rhode Island has importance 0.004028987303203968\n",
      "State_South Carolina has importance 0.0008807488932669992\n",
      "State_South Dakota has importance 0.005667425480757279\n",
      "State_Tennessee has importance 0.003158166307877481\n",
      "State_Texas has importance 0.002357357759291005\n",
      "State_United States has importance 0.000889456977542196\n",
      "State_Utah has importance 0.004862889638074472\n",
      "State_Vermont has importance 0.0008163353591989034\n",
      "State_Virginia has importance 0.0021145876429972147\n",
      "State_Washington has importance 0.00236761506627214\n",
      "State_West Virginia has importance 0.007158715497068818\n",
      "State_Wisconsin has importance 0.0008887151347701731\n",
      "State_Wyoming has importance 0.0015617209371536806\n"
     ]
    }
   ],
   "source": [
    "for i in range(len(df2o.drop(['Deaths', 'Population', 'Rate'],axis=1).columns)):\n",
    "    print(df2o.drop(['Deaths', 'Population', 'Rate'],axis=1).columns[i], \"has importance\", dTree_mae.feature_importances_[i])"
   ]
  },
  {
   "cell_type": "code",
   "execution_count": 29,
   "metadata": {},
   "outputs": [],
   "source": [
    "tots_DTmae = [['Year', 0], ['Sex', 0], ['Age', 0], ['Race and Hispanic Origin', 0], ['State', 0]]\n",
    "for elem in tots_DTmae:\n",
    "    for i in range(len(df2o.drop(['Deaths', 'Population', 'Rate'],axis=1).columns)):\n",
    "        if elem[0] in df2o.drop(['Deaths', 'Population', 'Rate'],axis=1).columns[i]:\n",
    "            elem[1] = elem[1] + dTree_mae.feature_importances_[i]"
   ]
  },
  {
   "cell_type": "code",
   "execution_count": 30,
   "metadata": {
    "scrolled": false
   },
   "outputs": [
    {
     "data": {
      "text/plain": [
       "[['Year', 0.25087647909178473],\n",
       " ['Sex', 0.09710605792373214],\n",
       " ['Age', 0.39569368350798406],\n",
       " ['Race and Hispanic Origin', 0.1170916791228019],\n",
       " ['State', 0.1392321003536971]]"
      ]
     },
     "execution_count": 30,
     "metadata": {},
     "output_type": "execute_result"
    }
   ],
   "source": [
    "tots_DTmae"
   ]
  },
  {
   "cell_type": "markdown",
   "metadata": {},
   "source": [
    "## Random Forests\n",
    "\n",
    "### MSE"
   ]
  },
  {
   "cell_type": "code",
   "execution_count": 31,
   "metadata": {},
   "outputs": [
    {
     "data": {
      "text/plain": [
       "RandomForestRegressor(bootstrap=True, criterion='mse', max_depth=None,\n",
       "           max_features='auto', max_leaf_nodes=None,\n",
       "           min_impurity_decrease=0.0, min_impurity_split=None,\n",
       "           min_samples_leaf=1, min_samples_split=2,\n",
       "           min_weight_fraction_leaf=0.0, n_estimators=1000, n_jobs=8,\n",
       "           oob_score=False, random_state=0, verbose=0, warm_start=False)"
      ]
     },
     "execution_count": 31,
     "metadata": {},
     "output_type": "execute_result"
    }
   ],
   "source": [
    "rf_mse = RandomForestRegressor(n_estimators=1000, n_jobs=8, criterion='mse', random_state=0)\n",
    "rf_mse.fit(df2o.drop(['Deaths', 'Population', 'Rate'],axis=1), df2o['Rate'])"
   ]
  },
  {
   "cell_type": "code",
   "execution_count": 32,
   "metadata": {},
   "outputs": [],
   "source": [
    "rf_mse.feature_importances_;"
   ]
  },
  {
   "cell_type": "code",
   "execution_count": 33,
   "metadata": {
    "scrolled": false
   },
   "outputs": [
    {
     "name": "stdout",
     "output_type": "stream",
     "text": [
      "Year_1999 has importance 0.025427077191258165\n",
      "Year_2000 has importance 0.023520775711967822\n",
      "Year_2001 has importance 0.019110517078976604\n",
      "Year_2002 has importance 0.01248645754655496\n",
      "Year_2003 has importance 0.00899499655159119\n",
      "Year_2004 has importance 0.007321259042618675\n",
      "Year_2005 has importance 0.0055969935769717045\n",
      "Year_2006 has importance 0.0036887057394795523\n",
      "Year_2007 has importance 0.002016267385346208\n",
      "Year_2008 has importance 0.0017891131961606495\n",
      "Year_2009 has importance 0.0022888302552526597\n",
      "Year_2010 has importance 0.002701062939052827\n",
      "Year_2011 has importance 0.0045149383623895095\n",
      "Year_2012 has importance 0.004263005205217341\n",
      "Year_2013 has importance 0.008860939974954046\n",
      "Year_2014 has importance 0.016266429074461977\n",
      "Year_2015 has importance 0.03384497314023263\n",
      "Sex_Both Sexes has importance 0.01129266782328413\n",
      "Sex_Female has importance 0.04330269524772443\n",
      "Sex_Male has importance 0.0427711318666882\n",
      "Age_15-24 years has importance 0.030828147779751416\n",
      "Age_25-34 years has importance 0.021848129339290225\n",
      "Age_35-44 years has importance 0.08430838582981698\n",
      "Age_45-54 years has importance 0.12969899843379357\n",
      "Age_55-64 years has importance 0.010167698689234912\n",
      "Age_65-74 years has importance 0.043813763390328914\n",
      "Age_75+ years has importance 0.052480132080139526\n",
      "Age_All Ages has importance 0.01027924126426728\n",
      "Age_Less than 15 years has importance 0.11253764640407363\n",
      "Race and Hispanic Origin_All Races-All Origins has importance 0.011629385615238172\n",
      "Race and Hispanic Origin_Hispanic has importance 0.06881298516287548\n",
      "Race and Hispanic Origin_Non-Hispanic Black has importance 0.02122482094016343\n",
      "Race and Hispanic Origin_Non-Hispanic White has importance 0.03888942446770982\n",
      "State_Alabama has importance 0.000454480562195581\n",
      "State_Alaska has importance 0.0008925918338910482\n",
      "State_Arizona has importance 0.0013187759653028278\n",
      "State_Arkansas has importance 0.0002001383620697498\n",
      "State_California has importance 0.00035595509894230756\n",
      "State_Colorado has importance 0.0006621777434568563\n",
      "State_Connecticut has importance 0.0006419974006114119\n",
      "State_Delaware has importance 0.0008094279095799834\n",
      "State_District of Columbia has importance 0.002023755436776665\n",
      "State_Florida has importance 0.000778623392519085\n",
      "State_Georgia has importance 0.0003242217525670799\n",
      "State_Hawaii has importance 0.00043173859324391556\n",
      "State_Idaho has importance 0.00028293930284302015\n",
      "State_Illinois has importance 0.00020811264348193946\n",
      "State_Indiana has importance 0.0004105003527161927\n",
      "State_Iowa has importance 0.0025447494142839364\n",
      "State_Kansas has importance 0.0005151188114563013\n",
      "State_Kentucky has importance 0.004691447803477227\n",
      "State_Louisiana has importance 0.0006300219525159663\n",
      "State_Maine has importance 0.0003466976390404972\n",
      "State_Maryland has importance 0.0013358449988741317\n",
      "State_Massachusetts has importance 0.0010562781262367046\n",
      "State_Michigan has importance 0.0002769080639400913\n",
      "State_Minnesota has importance 0.0019353493975502005\n",
      "State_Mississippi has importance 0.0003449172663647854\n",
      "State_Missouri has importance 0.00038022559407200815\n",
      "State_Montana has importance 0.00018332320019182172\n",
      "State_Nebraska has importance 0.003848124402467988\n",
      "State_Nevada has importance 0.005276953912012515\n",
      "State_New Hampshire has importance 0.002017010737286427\n",
      "State_New Jersey has importance 0.0006253599014606509\n",
      "State_New Mexico has importance 0.008792986530033126\n",
      "State_New York has importance 0.000984679170519876\n",
      "State_North Carolina has importance 0.00010718738136231429\n",
      "State_North Dakota has importance 0.006160773907182879\n",
      "State_Ohio has importance 0.001870211263093338\n",
      "State_Oklahoma has importance 0.002016770977215628\n",
      "State_Oregon has importance 0.00021444335584971092\n",
      "State_Pennsylvania has importance 0.0015334656175961298\n",
      "State_Rhode Island has importance 0.0027352832570416044\n",
      "State_South Carolina has importance 0.00015840355931050654\n",
      "State_South Dakota has importance 0.0038149092574368674\n",
      "State_Tennessee has importance 0.001335084340086993\n",
      "State_Texas has importance 0.000879853362065282\n",
      "State_United States has importance 0.0003853763446601867\n",
      "State_Utah has importance 0.002941509967996467\n",
      "State_Vermont has importance 0.0001782236512005062\n",
      "State_Virginia has importance 0.0007690472602088842\n",
      "State_Washington has importance 0.0006848746268144301\n",
      "State_West Virginia has importance 0.011390718188962543\n",
      "State_Wisconsin has importance 0.00014425300566922627\n",
      "State_Wyoming has importance 0.0005205810973977822\n"
     ]
    }
   ],
   "source": [
    "for i in range(len(df2o.drop(['Deaths', 'Population', 'Rate'],axis=1).columns)):\n",
    "    print(df2o.drop(['Deaths', 'Population', 'Rate'],axis=1).columns[i], \"has importance\", rf_mse.feature_importances_[i])"
   ]
  },
  {
   "cell_type": "code",
   "execution_count": 34,
   "metadata": {},
   "outputs": [],
   "source": [
    "tots_RFmse = [['Year', 0], ['Sex', 0], ['Age', 0], ['Race and Hispanic Origin', 0], ['State', 0]]\n",
    "for elem in tots_RFmse:\n",
    "    for i in range(len(df2o.drop(['Deaths', 'Population', 'Rate'],axis=1).columns)):\n",
    "        if elem[0] in df2o.drop(['Deaths', 'Population', 'Rate'],axis=1).columns[i]:\n",
    "            elem[1] = elem[1] + rf_mse.feature_importances_[i]"
   ]
  },
  {
   "cell_type": "code",
   "execution_count": 35,
   "metadata": {},
   "outputs": [
    {
     "data": {
      "text/plain": [
       "[['Year', 0.1826923419724865],\n",
       " ['Sex', 0.09736649493769675],\n",
       " ['Age', 0.4959621432106964],\n",
       " ['Race and Hispanic Origin', 0.14055661618598692],\n",
       " ['State', 0.0834224036931332]]"
      ]
     },
     "execution_count": 35,
     "metadata": {},
     "output_type": "execute_result"
    }
   ],
   "source": [
    "tots_RFmse"
   ]
  },
  {
   "cell_type": "code",
   "execution_count": 36,
   "metadata": {},
   "outputs": [],
   "source": [
    "huh= [['Year', 0.023630291051921028],\n",
    " ['Sex', 0.02763024027599163],\n",
    " ['Age', 0.0507013106827508],\n",
    " ['Race and Hispanic Origin', 0.008424596871325608],\n",
    " ['State', 0.0010475050266154822]]"
   ]
  },
  {
   "cell_type": "markdown",
   "metadata": {},
   "source": [
    "### MAE"
   ]
  },
  {
   "cell_type": "code",
   "execution_count": 37,
   "metadata": {},
   "outputs": [
    {
     "data": {
      "text/plain": [
       "RandomForestRegressor(bootstrap=True, criterion='mae', max_depth=None,\n",
       "           max_features='auto', max_leaf_nodes=None,\n",
       "           min_impurity_decrease=0.0, min_impurity_split=None,\n",
       "           min_samples_leaf=1, min_samples_split=2,\n",
       "           min_weight_fraction_leaf=0.0, n_estimators=1000, n_jobs=8,\n",
       "           oob_score=False, random_state=0, verbose=0, warm_start=False)"
      ]
     },
     "execution_count": 37,
     "metadata": {},
     "output_type": "execute_result"
    }
   ],
   "source": [
    "rf_mae = RandomForestRegressor(n_estimators=1000, n_jobs=8, criterion='mae', random_state=0)\n",
    "rf_mae.fit(df2o.drop(['Deaths', 'Population', 'Rate'],axis=1), df2o['Rate'])"
   ]
  },
  {
   "cell_type": "code",
   "execution_count": 38,
   "metadata": {},
   "outputs": [],
   "source": [
    "rf_mae.feature_importances_;"
   ]
  },
  {
   "cell_type": "code",
   "execution_count": 39,
   "metadata": {},
   "outputs": [],
   "source": [
    "# for i in range(len(df2o.drop(['Deaths', 'Population', 'Rate'],axis=1).columns)):\n",
    "#     print(df2o.drop(['Deaths', 'Population', 'Rate'],axis=1).columns[i], \"has importance\", rf_mae.feature_importances_[i])"
   ]
  },
  {
   "cell_type": "code",
   "execution_count": 40,
   "metadata": {},
   "outputs": [],
   "source": [
    "tots_RFmae = [['Year', 0], ['Sex', 0], ['Age', 0], ['Race and Hispanic Origin', 0], ['State', 0]]\n",
    "for elem in tots_RFmae:\n",
    "    for i in range(len(df2o.drop(['Deaths', 'Population', 'Rate'],axis=1).columns)):\n",
    "        if elem[0] in df2o.drop(['Deaths', 'Population', 'Rate'],axis=1).columns[i]:\n",
    "            elem[1] = elem[1] + rf_mae.feature_importances_[i]"
   ]
  },
  {
   "cell_type": "code",
   "execution_count": 41,
   "metadata": {},
   "outputs": [
    {
     "data": {
      "text/plain": [
       "[['Year', 0.25014109335180545],\n",
       " ['Sex', 0.09377136023113697],\n",
       " ['Age', 0.40256407595949584],\n",
       " ['Race and Hispanic Origin', 0.11814333588860795],\n",
       " ['State', 0.1353801345689538]]"
      ]
     },
     "execution_count": 41,
     "metadata": {},
     "output_type": "execute_result"
    }
   ],
   "source": [
    "tots_RFmae"
   ]
  },
  {
   "cell_type": "markdown",
   "metadata": {},
   "source": [
    "## Results"
   ]
  },
  {
   "cell_type": "code",
   "execution_count": 42,
   "metadata": {},
   "outputs": [
    {
     "data": {
      "text/plain": [
       "[['Year', 0.1813063184380905],\n",
       " ['Sex', 0.09639725093715015],\n",
       " ['Age', 0.4942769942711852],\n",
       " ['Race and Hispanic Origin', 0.1441215522778803],\n",
       " ['State', 0.08389788407569373]]"
      ]
     },
     "execution_count": 42,
     "metadata": {},
     "output_type": "execute_result"
    }
   ],
   "source": [
    "tots_DTmse"
   ]
  },
  {
   "cell_type": "code",
   "execution_count": 43,
   "metadata": {},
   "outputs": [
    {
     "data": {
      "text/plain": [
       "[['Year', 0.18130631843809078],\n",
       " ['Sex', 0.0963972509371502],\n",
       " ['Age', 0.4942769942711853],\n",
       " ['Race and Hispanic Origin', 0.14412155227787993],\n",
       " ['State', 0.08389788407569382]]"
      ]
     },
     "execution_count": 43,
     "metadata": {},
     "output_type": "execute_result"
    }
   ],
   "source": [
    "tots_DTfmse"
   ]
  },
  {
   "cell_type": "code",
   "execution_count": 44,
   "metadata": {},
   "outputs": [
    {
     "data": {
      "text/plain": [
       "[['Year', 0.25087647909178473],\n",
       " ['Sex', 0.09710605792373214],\n",
       " ['Age', 0.39569368350798406],\n",
       " ['Race and Hispanic Origin', 0.1170916791228019],\n",
       " ['State', 0.1392321003536971]]"
      ]
     },
     "execution_count": 44,
     "metadata": {},
     "output_type": "execute_result"
    }
   ],
   "source": [
    "tots_DTmae"
   ]
  },
  {
   "cell_type": "code",
   "execution_count": 45,
   "metadata": {},
   "outputs": [
    {
     "data": {
      "text/plain": [
       "[['Year', 0.1826923419724865],\n",
       " ['Sex', 0.09736649493769675],\n",
       " ['Age', 0.4959621432106964],\n",
       " ['Race and Hispanic Origin', 0.14055661618598692],\n",
       " ['State', 0.0834224036931332]]"
      ]
     },
     "execution_count": 45,
     "metadata": {},
     "output_type": "execute_result"
    }
   ],
   "source": [
    "tots_RFmse"
   ]
  },
  {
   "cell_type": "code",
   "execution_count": 46,
   "metadata": {},
   "outputs": [
    {
     "data": {
      "text/plain": [
       "[['Year', 0.25014109335180545],\n",
       " ['Sex', 0.09377136023113697],\n",
       " ['Age', 0.40256407595949584],\n",
       " ['Race and Hispanic Origin', 0.11814333588860795],\n",
       " ['State', 0.1353801345689538]]"
      ]
     },
     "execution_count": 46,
     "metadata": {},
     "output_type": "execute_result"
    }
   ],
   "source": [
    "tots_RFmae"
   ]
  },
  {
   "cell_type": "code",
   "execution_count": null,
   "metadata": {},
   "outputs": [],
   "source": []
  }
 ],
 "metadata": {
  "kernelspec": {
   "display_name": "Python 3",
   "language": "python",
   "name": "python3"
  },
  "language_info": {
   "codemirror_mode": {
    "name": "ipython",
    "version": 3
   },
   "file_extension": ".py",
   "mimetype": "text/x-python",
   "name": "python",
   "nbconvert_exporter": "python",
   "pygments_lexer": "ipython3",
   "version": "3.7.3"
  }
 },
 "nbformat": 4,
 "nbformat_minor": 2
}
